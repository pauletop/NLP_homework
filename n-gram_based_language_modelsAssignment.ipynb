{
 "cells": [
  {
   "cell_type": "markdown",
   "metadata": {},
   "source": [
    "# Xây dựng mô hình ngôn ngữ tiếng Anh theo tiếp cận N-gram, sử dụng 2 gram\n",
    "Build a language model for English using N-gram approach, using 2-gram"
   ]
  },
  {
   "cell_type": "markdown",
   "metadata": {},
   "source": [
    "## 1. Thu thập dữ liệu text (Collect text data): \n",
    "Dữ liệu text từ file `short story.txt` là một đoạn dữ liệu tôi tạo mẫu để xây dựng mô hình ngôn ngữ thử nghiệm."
   ]
  },
  {
   "cell_type": "code",
   "execution_count": 1,
   "metadata": {},
   "outputs": [
    {
     "name": "stdout",
     "output_type": "stream",
     "text": [
      "This story centers around Titania and Oberon, two fairy characters from Shakespeare’s famous play, \"A Midsummer Night’s Dream.\" The two fairies are having a rough time in their marriage when they find a human child. They decide to adopt him, hoping that he’ll help them save their relationship. However, the child develops a deadly, modern disease and the fairies have no idea what to do since they have never known illness or death.\n",
      "This is a tragic tale about how they try to understand something they’ve never seen before and their deep love for a stranger who is so unlike them. The story explores the grief of parenthood and the uncertainty of knowing whether your child will ever even know you.\n",
      "Paul is a writer and director who has worked on a number of short films and music videos. He has also worked as a writer for the BBC and has written for a number of publications. He is currently working on a number of projects, including a feature film and a TV series. \n",
      "He is also a member of the Royal Court Theatre’s Young Writers Programme and has been a member of the BBC Writersroom. Especially, he also has a background in theatre and has worked as a director and writer for a number of productions.\n",
      "Paul is a graduate of the University of East Anglia’s Creative Writing MA and has also studied at the Royal Central School of Speech and Drama. He is currently based in London. \n",
      "He was also a finalist in the 2019 BBC Writersroom Drama Room and has been shortlisted for the 2019 Papatango New Writing Prize.\n"
     ]
    }
   ],
   "source": [
    "file_path = \"short story.txt\"\n",
    "with open(file_path, 'r', encoding='utf-8') as f:\n",
    "    text = f.read()\n",
    "print(text)"
   ]
  },
  {
   "cell_type": "markdown",
   "metadata": {},
   "source": [
    "## 2. Tính toán và lưu trữ cụm n-gram (calculate and store n-gram)\n",
    "Tính toán tất cả các cụm 2-gram từ dữ liệu text và lưu trữ chúng cùng tân số xuất hiện của chúng trong một từ điển."
   ]
  },
  {
   "cell_type": "code",
   "execution_count": 2,
   "metadata": {},
   "outputs": [
    {
     "name": "stdout",
     "output_type": "stream",
     "text": [
      "['this', 'story', 'centers', 'around', 'titania', 'and', 'oberon', 'two', 'fairy', 'characters', 'from', 'shakespeare’s', 'famous', 'play', 'a', 'midsummer', 'night’s', 'dream', 'the', 'two', 'fairies', 'are', 'having', 'a', 'rough', 'time', 'in', 'their', 'marriage', 'when', 'they', 'find', 'a', 'human', 'child', 'they', 'decide', 'to', 'adopt', 'him', 'hoping', 'that', 'he’ll', 'help', 'them', 'save', 'their', 'relationship', 'however', 'the', 'child', 'develops', 'a', 'deadly', 'modern', 'disease', 'and', 'the', 'fairies', 'have', 'no', 'idea', 'what', 'to', 'do', 'since', 'they', 'have', 'never', 'known', 'illness', 'or', 'death', 'this', 'is', 'a', 'tragic', 'tale', 'about', 'how', 'they', 'try', 'to', 'understand', 'something', 'they’ve', 'never', 'seen', 'before', 'and', 'their', 'deep', 'love', 'for', 'a', 'stranger', 'who', 'is', 'so', 'unlike', 'them', 'the', 'story', 'explores', 'the', 'grief', 'of', 'parenthood', 'and', 'the', 'uncertainty', 'of', 'knowing', 'whether', 'your', 'child', 'will', 'ever', 'even', 'know', 'you', 'paul', 'is', 'a', 'writer', 'and', 'director', 'who', 'has', 'worked', 'on', 'a', 'number', 'of', 'short', 'films', 'and', 'music', 'videos', 'he', 'has', 'also', 'worked', 'as', 'a', 'writer', 'for', 'the', 'bbc', 'and', 'has', 'written', 'for', 'a', 'number', 'of', 'publications', 'he', 'is', 'currently', 'working', 'on', 'a', 'number', 'of', 'projects', 'including', 'a', 'feature', 'film', 'and', 'a', 'tv', 'series', 'he', 'is', 'also', 'a', 'member', 'of', 'the', 'royal', 'court', 'theatre’s', 'young', 'writers', 'programme', 'and', 'has', 'been', 'a', 'member', 'of', 'the', 'bbc', 'writersroom', 'especially', 'he', 'also', 'has', 'a', 'background', 'in', 'theatre', 'and', 'has', 'worked', 'as', 'a', 'director', 'and', 'writer', 'for', 'a', 'number', 'of', 'productions', 'paul', 'is', 'a', 'graduate', 'of', 'the', 'university', 'of', 'east', 'anglia’s', 'creative', 'writing', 'ma', 'and', 'has', 'also', 'studied', 'at', 'the', 'royal', 'central', 'school', 'of', 'speech', 'and', 'drama', 'he', 'is', 'currently', 'based', 'in', 'london', 'he', 'was', 'also', 'a', 'finalist', 'in', 'the', '2019', 'bbc', 'writersroom', 'drama', 'room', 'and', 'has', 'been', 'shortlisted', 'for', 'the', '2019', 'papatango', 'new', 'writing', 'prize']\n",
      "defaultdict(<class 'int'>, {('this', 'story'): 1, ('story', 'centers'): 1, ('centers', 'around'): 1, ('around', 'titania'): 1, ('titania', 'and'): 1, ('and', 'oberon'): 1, ('oberon', 'two'): 1, ('two', 'fairy'): 1, ('fairy', 'characters'): 1, ('characters', 'from'): 1, ('from', 'shakespeare’s'): 1, ('shakespeare’s', 'famous'): 1, ('famous', 'play'): 1, ('play', 'a'): 1, ('a', 'midsummer'): 1, ('midsummer', 'night’s'): 1, ('night’s', 'dream'): 1, ('dream', 'the'): 1, ('the', 'two'): 1, ('two', 'fairies'): 1, ('fairies', 'are'): 1, ('are', 'having'): 1, ('having', 'a'): 1, ('a', 'rough'): 1, ('rough', 'time'): 1, ('time', 'in'): 1, ('in', 'their'): 1, ('their', 'marriage'): 1, ('marriage', 'when'): 1, ('when', 'they'): 1, ('they', 'find'): 1, ('find', 'a'): 1, ('a', 'human'): 1, ('human', 'child'): 1, ('child', 'they'): 1, ('they', 'decide'): 1, ('decide', 'to'): 1, ('to', 'adopt'): 1, ('adopt', 'him'): 1, ('him', 'hoping'): 1, ('hoping', 'that'): 1, ('that', 'he’ll'): 1, ('he’ll', 'help'): 1, ('help', 'them'): 1, ('them', 'save'): 1, ('save', 'their'): 1, ('their', 'relationship'): 1, ('relationship', 'however'): 1, ('however', 'the'): 1, ('the', 'child'): 1, ('child', 'develops'): 1, ('develops', 'a'): 1, ('a', 'deadly'): 1, ('deadly', 'modern'): 1, ('modern', 'disease'): 1, ('disease', 'and'): 1, ('and', 'the'): 2, ('the', 'fairies'): 1, ('fairies', 'have'): 1, ('have', 'no'): 1, ('no', 'idea'): 1, ('idea', 'what'): 1, ('what', 'to'): 1, ('to', 'do'): 1, ('do', 'since'): 1, ('since', 'they'): 1, ('they', 'have'): 1, ('have', 'never'): 1, ('never', 'known'): 1, ('known', 'illness'): 1, ('illness', 'or'): 1, ('or', 'death'): 1, ('death', 'this'): 1, ('this', 'is'): 1, ('is', 'a'): 3, ('a', 'tragic'): 1, ('tragic', 'tale'): 1, ('tale', 'about'): 1, ('about', 'how'): 1, ('how', 'they'): 1, ('they', 'try'): 1, ('try', 'to'): 1, ('to', 'understand'): 1, ('understand', 'something'): 1, ('something', 'they’ve'): 1, ('they’ve', 'never'): 1, ('never', 'seen'): 1, ('seen', 'before'): 1, ('before', 'and'): 1, ('and', 'their'): 1, ('their', 'deep'): 1, ('deep', 'love'): 1, ('love', 'for'): 1, ('for', 'a'): 3, ('a', 'stranger'): 1, ('stranger', 'who'): 1, ('who', 'is'): 1, ('is', 'so'): 1, ('so', 'unlike'): 1, ('unlike', 'them'): 1, ('them', 'the'): 1, ('the', 'story'): 1, ('story', 'explores'): 1, ('explores', 'the'): 1, ('the', 'grief'): 1, ('grief', 'of'): 1, ('of', 'parenthood'): 1, ('parenthood', 'and'): 1, ('the', 'uncertainty'): 1, ('uncertainty', 'of'): 1, ('of', 'knowing'): 1, ('knowing', 'whether'): 1, ('whether', 'your'): 1, ('your', 'child'): 1, ('child', 'will'): 1, ('will', 'ever'): 1, ('ever', 'even'): 1, ('even', 'know'): 1, ('know', 'you'): 1, ('you', 'paul'): 1, ('paul', 'is'): 2, ('a', 'writer'): 2, ('writer', 'and'): 1, ('and', 'director'): 1, ('director', 'who'): 1, ('who', 'has'): 1, ('has', 'worked'): 2, ('worked', 'on'): 1, ('on', 'a'): 2, ('a', 'number'): 4, ('number', 'of'): 4, ('of', 'short'): 1, ('short', 'films'): 1, ('films', 'and'): 1, ('and', 'music'): 1, ('music', 'videos'): 1, ('videos', 'he'): 1, ('he', 'has'): 1, ('has', 'also'): 2, ('also', 'worked'): 1, ('worked', 'as'): 2, ('as', 'a'): 2, ('writer', 'for'): 2, ('for', 'the'): 2, ('the', 'bbc'): 2, ('bbc', 'and'): 1, ('and', 'has'): 5, ('has', 'written'): 1, ('written', 'for'): 1, ('of', 'publications'): 1, ('publications', 'he'): 1, ('he', 'is'): 3, ('is', 'currently'): 2, ('currently', 'working'): 1, ('working', 'on'): 1, ('of', 'projects'): 1, ('projects', 'including'): 1, ('including', 'a'): 1, ('a', 'feature'): 1, ('feature', 'film'): 1, ('film', 'and'): 1, ('and', 'a'): 1, ('a', 'tv'): 1, ('tv', 'series'): 1, ('series', 'he'): 1, ('is', 'also'): 1, ('also', 'a'): 2, ('a', 'member'): 2, ('member', 'of'): 2, ('of', 'the'): 3, ('the', 'royal'): 2, ('royal', 'court'): 1, ('court', 'theatre’s'): 1, ('theatre’s', 'young'): 1, ('young', 'writers'): 1, ('writers', 'programme'): 1, ('programme', 'and'): 1, ('has', 'been'): 2, ('been', 'a'): 1, ('bbc', 'writersroom'): 2, ('writersroom', 'especially'): 1, ('especially', 'he'): 1, ('he', 'also'): 1, ('also', 'has'): 1, ('has', 'a'): 1, ('a', 'background'): 1, ('background', 'in'): 1, ('in', 'theatre'): 1, ('theatre', 'and'): 1, ('a', 'director'): 1, ('director', 'and'): 1, ('and', 'writer'): 1, ('of', 'productions'): 1, ('productions', 'paul'): 1, ('a', 'graduate'): 1, ('graduate', 'of'): 1, ('the', 'university'): 1, ('university', 'of'): 1, ('of', 'east'): 1, ('east', 'anglia’s'): 1, ('anglia’s', 'creative'): 1, ('creative', 'writing'): 1, ('writing', 'ma'): 1, ('ma', 'and'): 1, ('also', 'studied'): 1, ('studied', 'at'): 1, ('at', 'the'): 1, ('royal', 'central'): 1, ('central', 'school'): 1, ('school', 'of'): 1, ('of', 'speech'): 1, ('speech', 'and'): 1, ('and', 'drama'): 1, ('drama', 'he'): 1, ('currently', 'based'): 1, ('based', 'in'): 1, ('in', 'london'): 1, ('london', 'he'): 1, ('he', 'was'): 1, ('was', 'also'): 1, ('a', 'finalist'): 1, ('finalist', 'in'): 1, ('in', 'the'): 1, ('the', '2019'): 2, ('2019', 'bbc'): 1, ('writersroom', 'drama'): 1, ('drama', 'room'): 1, ('room', 'and'): 1, ('been', 'shortlisted'): 1, ('shortlisted', 'for'): 1, ('2019', 'papatango'): 1, ('papatango', 'new'): 1, ('new', 'writing'): 1, ('writing', 'prize'): 1})\n"
     ]
    }
   ],
   "source": [
    "from collections import Counter, defaultdict\n",
    "import re\n",
    "\n",
    "def compute_ngrams(text, n):\n",
    "    ngrams = defaultdict(int)\n",
    "    text = text.lower()\n",
    "    # Split the text into words by spaces, commas, colons, semicolons, periods, question marks, exclamation marks, and double quotes\n",
    "    words = [word.strip('.,;!?\\\"') for word in re.split(r'[\\s,;.:!?\"]', text) if word.strip('.,;!?\\\"')]\n",
    "    print(words)\n",
    "    for i in range(len(words) - n + 1):\n",
    "        ngram = tuple(words[i:i+n])\n",
    "        ngrams[ngram] += 1\n",
    "    return ngrams\n",
    "# Example\n",
    "bigrams = compute_ngrams(text, 2)\n",
    "print(bigrams)"
   ]
  },
  {
   "cell_type": "code",
   "execution_count": 3,
   "metadata": {},
   "outputs": [
    {
     "name": "stdout",
     "output_type": "stream",
     "text": [
      "The probability of the sentence is: 0.00000000000097430086\n"
     ]
    }
   ],
   "source": [
    "def calculate_sentence_p(sentence, ngrams, n):\n",
    "    sentence = sentence.lower()\n",
    "    words = [word.strip('.,;!?\\\"') for word in re.split(r'[\\s,;.:!?\"]', sentence) if word.strip('.,;!?\\\"')]\n",
    "    p = 1\n",
    "    for i in range(len(words) - n + 1):\n",
    "        ngram = tuple(words[i:i+n])\n",
    "        p *= (ngrams[ngram] + 1) / (sum(ngrams.values()) + len(ngrams))\n",
    "    return p\n",
    "# Example\n",
    "sentence = \"Royal Court Theatre’s Young Writers Programme\"\n",
    "p = calculate_sentence_p(sentence, bigrams, 2)\n",
    "print(\"The probability of the sentence is: {:.20f}\".format(p))"
   ]
  },
  {
   "cell_type": "markdown",
   "metadata": {},
   "source": [
    "## 4. Sinh ra từ tiếp theo dựa trên xác suất (Generate next word based on probability)\n",
    "Để sinh ra từ tiếp theo, có thể sử dụng xác suất của các bigram liên quan đến từ hiện tại. Dưới đây là một hàm đơn giản"
   ]
  },
  {
   "cell_type": "code",
   "execution_count": 4,
   "metadata": {},
   "outputs": [
    {
     "name": "stdout",
     "output_type": "stream",
     "text": [
      "Generated text starting with 'Paul': Paul is a\n"
     ]
    }
   ],
   "source": [
    "def generate_next_word(seed_word, ngrams, n, num_words=2):\n",
    "    generated_words = [seed_word]\n",
    "    seed_word = seed_word.lower()\n",
    "    for _ in range(num_words):\n",
    "        candidates = [word for word in ngrams if word[0] == seed_word]\n",
    "        if candidates:\n",
    "            next_word = max(candidates, key=lambda x: ngrams[x])\n",
    "            generated_words.append(next_word[1])\n",
    "            seed_word = next_word[1]\n",
    "        else:\n",
    "            break\n",
    "    return \" \".join(generated_words)\n",
    "\n",
    "# Example\n",
    "seed_word = \"Paul\"\n",
    "generated_text = generate_next_word(seed_word, bigrams, 2)\n",
    "print(f\"Generated text starting with '{seed_word}': {generated_text}\")"
   ]
  },
  {
   "cell_type": "code",
   "execution_count": 11,
   "metadata": {},
   "outputs": [
    {
     "name": "stdout",
     "output_type": "stream",
     "text": [
      "midsummer\n",
      "1\n",
      "rough\n",
      "1\n",
      "human\n",
      "1\n",
      "deadly\n",
      "1\n",
      "tragic\n",
      "1\n",
      "stranger\n",
      "1\n",
      "writer\n",
      "2\n",
      "number\n",
      "4\n",
      "feature\n",
      "1\n",
      "tv\n",
      "1\n",
      "member\n",
      "2\n",
      "background\n",
      "1\n",
      "director\n",
      "1\n",
      "graduate\n",
      "1\n",
      "finalist\n",
      "1\n"
     ]
    }
   ],
   "source": [
    "for word in bigrams:\n",
    "    if word[0] == \"a\":\n",
    "        print(word[1])\n",
    "        print(bigrams[word])"
   ]
  }
 ],
 "metadata": {
  "kernelspec": {
   "display_name": "Python 3",
   "language": "python",
   "name": "python3"
  },
  "language_info": {
   "codemirror_mode": {
    "name": "ipython",
    "version": 3
   },
   "file_extension": ".py",
   "mimetype": "text/x-python",
   "name": "python",
   "nbconvert_exporter": "python",
   "pygments_lexer": "ipython3",
   "version": "3.9.7"
  }
 },
 "nbformat": 4,
 "nbformat_minor": 2
}
