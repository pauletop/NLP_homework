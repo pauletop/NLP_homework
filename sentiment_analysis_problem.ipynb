{
 "cells": [
  {
   "cell_type": "markdown",
   "metadata": {},
   "source": [
    "### Import the required libraries and load the data"
   ]
  },
  {
   "cell_type": "code",
   "execution_count": 1,
   "metadata": {},
   "outputs": [],
   "source": [
    "import numpy as np\n",
    "import pandas as pd\n",
    "from underthesea import word_tokenize\n",
    "from sklearn.svm import SVC\n",
    "from sklearn.linear_model import LogisticRegression\n",
    "from sklearn.tree import DecisionTreeClassifier\n",
    "from sklearn.neighbors import KNeighborsClassifier\n",
    "from sklearn.ensemble import RandomForestClassifier\n",
    "from sklearn.naive_bayes import MultinomialNB\n",
    "from sklearn.metrics import accuracy_score, classification_report"
   ]
  },
  {
   "cell_type": "code",
   "execution_count": 2,
   "metadata": {},
   "outputs": [
    {
     "name": "stdout",
     "output_type": "stream",
     "text": [
      "(74682, 2)\n"
     ]
    },
    {
     "data": {
      "text/html": [
       "<div>\n",
       "<style scoped>\n",
       "    .dataframe tbody tr th:only-of-type {\n",
       "        vertical-align: middle;\n",
       "    }\n",
       "\n",
       "    .dataframe tbody tr th {\n",
       "        vertical-align: top;\n",
       "    }\n",
       "\n",
       "    .dataframe thead th {\n",
       "        text-align: right;\n",
       "    }\n",
       "</style>\n",
       "<table border=\"1\" class=\"dataframe\">\n",
       "  <thead>\n",
       "    <tr style=\"text-align: right;\">\n",
       "      <th></th>\n",
       "      <th>Sentiment</th>\n",
       "      <th>Content</th>\n",
       "    </tr>\n",
       "  </thead>\n",
       "  <tbody>\n",
       "    <tr>\n",
       "      <th>0</th>\n",
       "      <td>Positive</td>\n",
       "      <td>im getting on borderlands and i will murder yo...</td>\n",
       "    </tr>\n",
       "    <tr>\n",
       "      <th>1</th>\n",
       "      <td>Positive</td>\n",
       "      <td>I am coming to the borders and I will kill you...</td>\n",
       "    </tr>\n",
       "    <tr>\n",
       "      <th>2</th>\n",
       "      <td>Positive</td>\n",
       "      <td>im getting on borderlands and i will kill you ...</td>\n",
       "    </tr>\n",
       "    <tr>\n",
       "      <th>3</th>\n",
       "      <td>Positive</td>\n",
       "      <td>im coming on borderlands and i will murder you...</td>\n",
       "    </tr>\n",
       "    <tr>\n",
       "      <th>4</th>\n",
       "      <td>Positive</td>\n",
       "      <td>im getting on borderlands 2 and i will murder ...</td>\n",
       "    </tr>\n",
       "  </tbody>\n",
       "</table>\n",
       "</div>"
      ],
      "text/plain": [
       "  Sentiment                                            Content\n",
       "0  Positive  im getting on borderlands and i will murder yo...\n",
       "1  Positive  I am coming to the borders and I will kill you...\n",
       "2  Positive  im getting on borderlands and i will kill you ...\n",
       "3  Positive  im coming on borderlands and i will murder you...\n",
       "4  Positive  im getting on borderlands 2 and i will murder ..."
      ]
     },
     "execution_count": 2,
     "metadata": {},
     "output_type": "execute_result"
    }
   ],
   "source": [
    "# filename = 'train_nor_811.csv' # file name\n",
    "filename = 'twitter_training.csv'\n",
    "df = pd.read_csv(filename)\n",
    "print(df.shape)\n",
    "df.head(5)"
   ]
  },
  {
   "cell_type": "code",
   "execution_count": 3,
   "metadata": {},
   "outputs": [
    {
     "name": "stdout",
     "output_type": "stream",
     "text": [
      "im getting on borderlands and i will murder you all ,\tPositive\n",
      "I am coming to the borders and I will kill you all,\tPositive\n",
      "im getting on borderlands and i will kill you all,\tPositive\n",
      "im coming on borderlands and i will murder you all,\tPositive\n",
      "im getting on borderlands 2 and i will murder you me all,\tPositive\n"
     ]
    }
   ],
   "source": [
    "# Devide data into 2 parts: X (features) and y (labels)\n",
    "MAX_DATA_NUM = 10000\n",
    "# X = df['Sentence'][:MAX_DATA_NUM].astype(str) # texts\n",
    "# y = df['Emotion'][:MAX_DATA_NUM] # labels\n",
    "X = df['Content'][:MAX_DATA_NUM].astype(str) # texts\n",
    "y = df['Sentiment'][:MAX_DATA_NUM] # labels\n",
    "for i in range(5):\n",
    "    print(X[i],end='\\t')\n",
    "    print(y[i])"
   ]
  },
  {
   "cell_type": "markdown",
   "metadata": {},
   "source": [
    "### Preprocessing"
   ]
  },
  {
   "cell_type": "code",
   "execution_count": 4,
   "metadata": {},
   "outputs": [
    {
     "name": "stdout",
     "output_type": "stream",
     "text": [
      "im getting on_borderlands and i will murder you all , Positive\n",
      "i am_coming to the_borders and i will kill you all , Positive\n",
      "im getting on_borderlands and i will kill you all , Positive\n",
      "im coming on_borderlands and i will murder you all , Positive\n",
      "im getting on borderlands 2 and i will murder you me all , Positive\n"
     ]
    }
   ],
   "source": [
    "X_tokenized = [word_tokenize(sent, format=\"text\").lower() for sent in X]\n",
    "for i in range(5):\n",
    "    print(X_tokenized[i], y[i])"
   ]
  },
  {
   "cell_type": "code",
   "execution_count": 5,
   "metadata": {},
   "outputs": [],
   "source": [
    "# from sklearn.feature_extraction.text import CountVectorizer, TfidfVectorizer\n",
    "from keras.preprocessing.text import Tokenizer\n",
    "import matplotlib.pyplot as plt\n",
    "def get_X_encoded(X_tokenized, mode, ngram_range=(1, 2)):\n",
    "    # if mode == 'binary':\n",
    "    #     vectorizer = CountVectorizer(binary=True, ngram_range=ngram_range)\n",
    "    # elif mode == 'count':\n",
    "    #     vectorizer = CountVectorizer(ngram_range=ngram_range)\n",
    "    # elif mode == 'freq':\n",
    "    #     vectorizer = TfidfVectorizer(use_idf=False, ngram_range=ngram_range)\n",
    "    # elif mode == 'tfidf':\n",
    "    #     vectorizer = TfidfVectorizer(ngram_range=ngram_range)\n",
    "    # else:\n",
    "    #     raise ValueError('Invalid mode: %s' % mode)\n",
    "    # X_encoded = vectorizer.fit_transform(X_tokenized)\n",
    "\n",
    "    t = Tokenizer()\n",
    "    t.fit_on_texts(X_tokenized)\n",
    "    X_encoded = t.texts_to_matrix(X_tokenized, mode=mode)\n",
    "    return X_encoded, t\n",
    "\n",
    "def train_and_evaluate(clf_name, clf, X_train, X_test, y_train, y_test):\n",
    "    print(\"=== %s ===\" % clf_name)\n",
    "    print(\"Training %s ...\" % clf_name)\n",
    "    clf.fit(X_train, y_train)\n",
    "    y_pred = clf.predict(X_test)\n",
    "    accuracy = accuracy_score(y_test, y_pred)\n",
    "    print(\"Accuracy: %.2f\" % accuracy)\n",
    "    print(\"Classification report:\")\n",
    "    print(classification_report(y_test, y_pred))\n",
    "    return (\"%.2f\" % accuracy, clf)"
   ]
  },
  {
   "cell_type": "markdown",
   "metadata": {},
   "source": [
    "### Training the model"
   ]
  },
  {
   "cell_type": "code",
   "execution_count": 6,
   "metadata": {},
   "outputs": [
    {
     "name": "stdout",
     "output_type": "stream",
     "text": [
      "Mode: count\n"
     ]
    }
   ],
   "source": [
    "modes = ['binary', 'count', 'freq', 'tfidf']\n",
    "# Choose 1 mode randomly\n",
    "mode = modes[np.random.randint(0, len(modes))]\n",
    "X_encoded, vectorizer = get_X_encoded(X_tokenized, mode)\n",
    "# X_encoded = X_encoded.toarray()\n",
    "print('Mode:', mode)"
   ]
  },
  {
   "cell_type": "code",
   "execution_count": 7,
   "metadata": {},
   "outputs": [],
   "source": [
    "# Split data into training and testing sets\n",
    "from sklearn.model_selection import train_test_split\n",
    "X_train, X_test, y_train, y_test = train_test_split(X_encoded, y, test_size=0.25, random_state=42)"
   ]
  },
  {
   "cell_type": "code",
   "execution_count": 8,
   "metadata": {},
   "outputs": [],
   "source": [
    "classifiers = {\n",
    "    'Logistic Regression': LogisticRegression(max_iter=1000),\n",
    "    'Decision Tree': DecisionTreeClassifier(),\n",
    "    'kNN': KNeighborsClassifier(),\n",
    "    'RandomForest': RandomForestClassifier(),\n",
    "    'Naive Bayes': MultinomialNB(),\n",
    "    'SVM': SVC(kernel='linear')\n",
    "}\n",
    "models = {name : None for name in classifiers.keys()}"
   ]
  },
  {
   "cell_type": "markdown",
   "metadata": {},
   "source": [
    "#### Train and evaluate the Naive Bayes model"
   ]
  },
  {
   "cell_type": "code",
   "execution_count": 9,
   "metadata": {},
   "outputs": [
    {
     "name": "stdout",
     "output_type": "stream",
     "text": [
      "=== Naive Bayes ===\n",
      "Training Naive Bayes ...\n",
      "Accuracy: 0.81\n",
      "Classification report:\n",
      "              precision    recall  f1-score   support\n",
      "\n",
      "  Irrelevant       0.86      0.72      0.78       446\n",
      "    Negative       0.79      0.84      0.82       589\n",
      "     Neutral       0.89      0.74      0.81       662\n",
      "    Positive       0.75      0.90      0.82       803\n",
      "\n",
      "    accuracy                           0.81      2500\n",
      "   macro avg       0.82      0.80      0.81      2500\n",
      "weighted avg       0.82      0.81      0.81      2500\n",
      "\n"
     ]
    }
   ],
   "source": [
    "clf_name = 'Naive Bayes'\n",
    "clf = classifiers[clf_name]\n",
    "models[clf_name] = train_and_evaluate(clf_name, clf, X_train, X_test, y_train, y_test)"
   ]
  },
  {
   "cell_type": "markdown",
   "metadata": {},
   "source": [
    "#### Logistic Regression"
   ]
  },
  {
   "cell_type": "code",
   "execution_count": 10,
   "metadata": {},
   "outputs": [
    {
     "name": "stdout",
     "output_type": "stream",
     "text": [
      "=== Logistic Regression ===\n",
      "Training Logistic Regression ...\n"
     ]
    },
    {
     "name": "stdout",
     "output_type": "stream",
     "text": [
      "Accuracy: 0.88\n",
      "Classification report:\n",
      "              precision    recall  f1-score   support\n",
      "\n",
      "  Irrelevant       0.91      0.85      0.88       446\n",
      "    Negative       0.88      0.87      0.88       589\n",
      "     Neutral       0.91      0.88      0.90       662\n",
      "    Positive       0.85      0.91      0.88       803\n",
      "\n",
      "    accuracy                           0.88      2500\n",
      "   macro avg       0.89      0.88      0.88      2500\n",
      "weighted avg       0.89      0.88      0.88      2500\n",
      "\n"
     ]
    }
   ],
   "source": [
    "clf_name = 'Logistic Regression'\n",
    "clf = classifiers[clf_name]\n",
    "models[clf_name] = train_and_evaluate(clf_name, clf, X_train, X_test, y_train, y_test)"
   ]
  },
  {
   "cell_type": "markdown",
   "metadata": {},
   "source": [
    "#### SVM"
   ]
  },
  {
   "cell_type": "code",
   "execution_count": 13,
   "metadata": {},
   "outputs": [
    {
     "name": "stdout",
     "output_type": "stream",
     "text": [
      "=== SVM ===\n",
      "Training SVM ...\n",
      "Accuracy: 0.88\n",
      "Classification report:\n",
      "              precision    recall  f1-score   support\n",
      "\n",
      "  Irrelevant       0.88      0.87      0.87       446\n",
      "    Negative       0.88      0.85      0.87       589\n",
      "     Neutral       0.90      0.87      0.89       662\n",
      "    Positive       0.86      0.91      0.88       803\n",
      "\n",
      "    accuracy                           0.88      2500\n",
      "   macro avg       0.88      0.87      0.88      2500\n",
      "weighted avg       0.88      0.88      0.88      2500\n",
      "\n"
     ]
    }
   ],
   "source": [
    "clf_name = 'SVM'\n",
    "clf = classifiers[clf_name]\n",
    "models[clf_name] = train_and_evaluate(clf_name, clf, X_train, X_test, y_train, y_test)"
   ]
  },
  {
   "cell_type": "markdown",
   "metadata": {},
   "source": [
    "#### Random Forest"
   ]
  },
  {
   "cell_type": "code",
   "execution_count": 14,
   "metadata": {},
   "outputs": [
    {
     "name": "stdout",
     "output_type": "stream",
     "text": [
      "=== RandomForest ===\n",
      "Training RandomForest ...\n",
      "Accuracy: 0.93\n",
      "Classification report:\n",
      "              precision    recall  f1-score   support\n",
      "\n",
      "  Irrelevant       0.96      0.89      0.93       446\n",
      "    Negative       0.94      0.91      0.92       589\n",
      "     Neutral       0.91      0.96      0.93       662\n",
      "    Positive       0.92      0.94      0.93       803\n",
      "\n",
      "    accuracy                           0.93      2500\n",
      "   macro avg       0.93      0.93      0.93      2500\n",
      "weighted avg       0.93      0.93      0.93      2500\n",
      "\n"
     ]
    }
   ],
   "source": [
    "clf_name = 'RandomForest'\n",
    "clf = classifiers[clf_name]\n",
    "models[clf_name] = train_and_evaluate(clf_name, clf, X_train, X_test, y_train, y_test)"
   ]
  },
  {
   "cell_type": "markdown",
   "metadata": {},
   "source": [
    "#### Decision Tree"
   ]
  },
  {
   "cell_type": "code",
   "execution_count": 15,
   "metadata": {},
   "outputs": [
    {
     "name": "stdout",
     "output_type": "stream",
     "text": [
      "=== Decision Tree ===\n",
      "Training Decision Tree ...\n",
      "Accuracy: 0.78\n",
      "Classification report:\n",
      "              precision    recall  f1-score   support\n",
      "\n",
      "  Irrelevant       0.77      0.73      0.75       446\n",
      "    Negative       0.79      0.76      0.78       589\n",
      "     Neutral       0.76      0.82      0.79       662\n",
      "    Positive       0.80      0.79      0.79       803\n",
      "\n",
      "    accuracy                           0.78      2500\n",
      "   macro avg       0.78      0.78      0.78      2500\n",
      "weighted avg       0.78      0.78      0.78      2500\n",
      "\n"
     ]
    }
   ],
   "source": [
    "clf_name = 'Decision Tree'\n",
    "clf = classifiers[clf_name]\n",
    "models[clf_name] = train_and_evaluate(clf_name, clf, X_train, X_test, y_train, y_test)"
   ]
  },
  {
   "cell_type": "markdown",
   "metadata": {},
   "source": [
    "#### k Nearest Neighbors"
   ]
  },
  {
   "cell_type": "code",
   "execution_count": 16,
   "metadata": {},
   "outputs": [
    {
     "name": "stdout",
     "output_type": "stream",
     "text": [
      "=== kNN ===\n",
      "Training kNN ...\n",
      "Accuracy: 0.86\n",
      "Classification report:\n",
      "              precision    recall  f1-score   support\n",
      "\n",
      "  Irrelevant       0.85      0.84      0.85       446\n",
      "    Negative       0.86      0.86      0.86       589\n",
      "     Neutral       0.82      0.90      0.86       662\n",
      "    Positive       0.91      0.83      0.87       803\n",
      "\n",
      "    accuracy                           0.86      2500\n",
      "   macro avg       0.86      0.86      0.86      2500\n",
      "weighted avg       0.86      0.86      0.86      2500\n",
      "\n"
     ]
    }
   ],
   "source": [
    "clf_name = 'kNN'\n",
    "clf = classifiers[clf_name]\n",
    "models[clf_name] = train_and_evaluate(clf_name, clf, X_train, X_test, y_train, y_test)"
   ]
  },
  {
   "cell_type": "code",
   "execution_count": 25,
   "metadata": {},
   "outputs": [
    {
     "name": "stdout",
     "output_type": "stream",
     "text": [
      "[[0. 0. 1. ... 0. 0. 0.]]\n",
      "Predicted sentiment by Logistic Regression: ['Positive']\n",
      "Predicted sentiment by Decision Tree: ['Positive']\n",
      "Predicted sentiment by kNN: ['Positive']\n",
      "Predicted sentiment by RandomForest: ['Positive']\n",
      "Predicted sentiment by Naive Bayes: ['Positive']\n",
      "Predicted sentiment by SVM: ['Positive']\n"
     ]
    }
   ],
   "source": [
    "question = input() # I really like this book\n",
    "X_input = vectorizer.texts_to_matrix([question],mode=mode)\n",
    "print(X_input)\n",
    "for clf_name, clf in models.items():\n",
    "    print(f'Predicted sentiment by {clf_name}: {clf[1].predict(X_input)}')"
   ]
  },
  {
   "cell_type": "code",
   "execution_count": 20,
   "metadata": {},
   "outputs": [
    {
     "data": {
      "text/plain": [
       "{'Logistic Regression': ('0.88', LogisticRegression(max_iter=1000)),\n",
       " 'Decision Tree': ('0.78', DecisionTreeClassifier()),\n",
       " 'kNN': ('0.86', KNeighborsClassifier()),\n",
       " 'RandomForest': ('0.93', RandomForestClassifier()),\n",
       " 'Naive Bayes': ('0.81', MultinomialNB()),\n",
       " 'SVM': ('0.88', SVC(kernel='linear'))}"
      ]
     },
     "execution_count": 20,
     "metadata": {},
     "output_type": "execute_result"
    }
   ],
   "source": [
    "models"
   ]
  },
  {
   "cell_type": "markdown",
   "metadata": {},
   "source": [
    "##### Validate models on accuracy and show the graph and choose the best model\n",
    "> Accuracy (Độ chính xác) của các model lần lượt là:\n",
    "- Decision Tree: 0.78\n",
    "- Naive Bayes: 0.81\n",
    "- kNN: 0.86\n",
    "- SVM: 0.88\n",
    "- Logistic Regression: 0.88\n",
    "- Random Forest: 0.93\n",
    "\n",
    "Như vậy, Random Forest là model có độ chính xác cao nhất với 93%."
   ]
  }
 ],
 "metadata": {
  "kernelspec": {
   "display_name": "Python 3",
   "language": "python",
   "name": "python3"
  },
  "language_info": {
   "codemirror_mode": {
    "name": "ipython",
    "version": 3
   },
   "file_extension": ".py",
   "mimetype": "text/x-python",
   "name": "python",
   "nbconvert_exporter": "python",
   "pygments_lexer": "ipython3",
   "version": "3.9.7"
  }
 },
 "nbformat": 4,
 "nbformat_minor": 2
}
